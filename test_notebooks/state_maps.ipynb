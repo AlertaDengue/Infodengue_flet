{
 "cells": [
  {
   "metadata": {},
   "cell_type": "code",
   "outputs": [],
   "execution_count": null,
   "source": [
    "import pandas as pd\n",
    "from mosqlient import get_infodengue\n",
    "from geodata.features import InfodengueMaps\n",
    "import geopandas as gpd\n",
    "import plotly.express as px"
   ],
   "id": "c05dddebd70e3c2d"
  },
  {
   "metadata": {},
   "cell_type": "code",
   "outputs": [],
   "execution_count": null,
   "source": [
    "# Initialize Infodengue and get Brasil map\n",
    "casos = get_infodengue(\n",
    "    start_date='2022-12-30',\n",
    "    end_date='2023-01-30',\n",
    "    disease='dengue',\n",
    "    uf='RJ'\n",
    ")\n",
    "casos"
   ],
   "id": "5871f163d1751af9"
  },
  {
   "metadata": {},
   "cell_type": "code",
   "outputs": [],
   "execution_count": null,
   "source": "casos.info()",
   "id": "cd16803666497976"
  },
  {
   "metadata": {},
   "cell_type": "code",
   "outputs": [],
   "execution_count": null,
   "source": [
    "# casos.set_index('municipio_nome', inplace=True)\n",
    "casos = casos.groupby(['municipio_geocodigo', 'municipio_nome']).sum()\n",
    "casos"
   ],
   "id": "c0db9f111817a9c2"
  },
  {
   "metadata": {},
   "cell_type": "code",
   "outputs": [],
   "execution_count": null,
   "source": [
    "IM = InfodengueMaps()\n",
    "map_geojson = IM.get_state_geojson(\"RJ\")"
   ],
   "id": "a16c88c00bee285d"
  },
  {
   "metadata": {},
   "cell_type": "code",
   "outputs": [],
   "execution_count": null,
   "source": [
    "gdf = gpd.GeoDataFrame.from_features(map_geojson)\n",
    "gdf['CD_MUN'] = gdf['CD_MUN'].astype(int)\n",
    "gdf.plot()"
   ],
   "id": "b539282c8d00689b"
  },
  {
   "metadata": {},
   "cell_type": "code",
   "outputs": [],
   "execution_count": null,
   "source": [
    "rio = IM.get_city_geojson(city_code='3304557')\n",
    "rio\n",
    "# gpd.GeoDataFrame.from_features(rio).plot()"
   ],
   "id": "891d39e6e2c6c5b8"
  },
  {
   "metadata": {},
   "cell_type": "code",
   "outputs": [],
   "execution_count": null,
   "source": [
    "mapa = pd.merge(gdf, casos.reset_index(), left_on='CD_MUN', right_on='municipio_geocodigo', how='left')\n",
    "ax= mapa.plot(column='casos', scheme='natural_breaks',legend=True, legend_kwds={'bbox_to_anchor': (1.32, 1)})\n",
    "ax.set_axis_off()"
   ],
   "id": "44db0606c9faaf71"
  },
  {
   "metadata": {},
   "cell_type": "code",
   "outputs": [],
   "execution_count": null,
   "source": [
    "fig = px.choropleth(mapa, geojson=mapa.geometry, color='casos', locations=mapa.index, hover_name='municipio_nome')\n",
    "fig.update_geos(fitbounds=\"locations\", visible=False)"
   ],
   "id": "4d66a5afc9ad81e1"
  },
  {
   "metadata": {},
   "cell_type": "code",
   "outputs": [],
   "execution_count": null,
   "source": "gdf",
   "id": "8443fec34d945491"
  },
  {
   "metadata": {},
   "cell_type": "code",
   "outputs": [],
   "execution_count": null,
   "source": "gdf[['NM_MUN', 'CD_MUN']].drop_duplicates().to_dict(orient='records')",
   "id": "bcc86354e6670493"
  },
  {
   "metadata": {},
   "cell_type": "code",
   "outputs": [],
   "execution_count": null,
   "source": "",
   "id": "7f4ae45d94808d2c"
  }
 ],
 "metadata": {},
 "nbformat": 5,
 "nbformat_minor": 9
}
