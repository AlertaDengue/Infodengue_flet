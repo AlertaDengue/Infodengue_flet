{
 "cells": [
  {
   "metadata": {},
   "cell_type": "code",
   "outputs": [],
   "execution_count": null,
   "source": [
    "import pandas as pd\n",
    "from mosqlient import get_infodengue\n",
    "\n",
    "import plotly.express as px"
   ],
   "id": "8b1bc82c97dc00d2"
  },
  {
   "metadata": {},
   "cell_type": "code",
   "outputs": [],
   "execution_count": null,
   "source": [
    "casos = get_infodengue(\n",
    "    start_date='2022-12-30',\n",
    "    end_date='2025-03-27',\n",
    "    disease='dengue',\n",
    "    uf='RJ',\n",
    "    geocode=3304557\n",
    ")\n",
    "casos['data_iniSE'] = pd.to_datetime(casos['data_iniSE'])\n",
    "casos"
   ],
   "id": "8ca78d088c56e2ba"
  },
  {
   "metadata": {},
   "cell_type": "code",
   "outputs": [],
   "execution_count": null,
   "source": "casos.set_index('data_iniSE')[['casos_est', 'tempmin']].plot(legend=True);",
   "id": "a454fa2d0d40b179"
  },
  {
   "metadata": {},
   "cell_type": "code",
   "outputs": [],
   "execution_count": null,
   "source": "casos.info()",
   "id": "b2de8e5171690e11"
  },
  {
   "metadata": {},
   "cell_type": "code",
   "outputs": [],
   "execution_count": null,
   "source": "",
   "id": "fd47a9dca4449117"
  }
 ],
 "metadata": {},
 "nbformat": 5,
 "nbformat_minor": 9
}
